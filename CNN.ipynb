{
  "cells": [
    {
      "cell_type": "markdown",
      "metadata": {
        "id": "view-in-github",
        "colab_type": "text"
      },
      "source": [
        "<a href=\"https://colab.research.google.com/github/UtkarshTyagiisgoated/E22/blob/main/CNN.ipynb\" target=\"_parent\"><img src=\"https://colab.research.google.com/assets/colab-badge.svg\" alt=\"Open In Colab\"/></a>"
      ]
    },
    {
      "cell_type": "code",
      "execution_count": 69,
      "id": "6b817b6f-1abd-4864-b5f0-2289642080a3",
      "metadata": {
        "id": "6b817b6f-1abd-4864-b5f0-2289642080a3"
      },
      "outputs": [],
      "source": [
        "import tensorflow as tf\n",
        "import tensorflow.keras as keras\n",
        "from tensorflow.keras import models, layers\n",
        "from tensorflow.keras.datasets import mnist\n",
        "import numpy\n",
        "from tensorflow.keras.utils import to_categorical"
      ]
    },
    {
      "cell_type": "code",
      "execution_count": 70,
      "id": "5a97470e-d05b-4a6c-b156-900100ce2bbd",
      "metadata": {
        "id": "5a97470e-d05b-4a6c-b156-900100ce2bbd"
      },
      "outputs": [],
      "source": [
        "(train_images,train_labels), (test_images, test_labels) = mnist.load_data()"
      ]
    },
    {
      "cell_type": "code",
      "execution_count": 71,
      "id": "1eb51733-eede-4cde-b097-9bb3193da3fe",
      "metadata": {
        "colab": {
          "base_uri": "https://localhost:8080/"
        },
        "id": "1eb51733-eede-4cde-b097-9bb3193da3fe",
        "outputId": "7dff5785-d425-45f0-a750-18b75537fb29"
      },
      "outputs": [
        {
          "output_type": "execute_result",
          "data": {
            "text/plain": [
              "255"
            ]
          },
          "metadata": {},
          "execution_count": 71
        }
      ],
      "source": [
        "train_images[0].max()"
      ]
    },
    {
      "cell_type": "code",
      "execution_count": 72,
      "id": "94978f64-3d7f-4bc3-b8e5-071502481969",
      "metadata": {
        "id": "94978f64-3d7f-4bc3-b8e5-071502481969"
      },
      "outputs": [],
      "source": [
        "train_images = train_images.astype('float32')/255\n",
        "test_images = test_images.astype('float32')/255"
      ]
    },
    {
      "cell_type": "code",
      "execution_count": 73,
      "id": "d9e836be-5a6e-4a8b-9d26-0cec94207c0d",
      "metadata": {
        "colab": {
          "base_uri": "https://localhost:8080/"
        },
        "id": "d9e836be-5a6e-4a8b-9d26-0cec94207c0d",
        "outputId": "7018007a-4c24-4da4-9a10-d210ad6b52db"
      },
      "outputs": [
        {
          "output_type": "execute_result",
          "data": {
            "text/plain": [
              "(60000, 28, 28)"
            ]
          },
          "metadata": {},
          "execution_count": 73
        }
      ],
      "source": [
        "train_images.shape"
      ]
    },
    {
      "cell_type": "code",
      "execution_count": 74,
      "id": "110410d0-74ca-4493-83ee-01bd7967f6a2",
      "metadata": {
        "id": "110410d0-74ca-4493-83ee-01bd7967f6a2"
      },
      "outputs": [],
      "source": [
        "train_images = train_images.reshape(train_images.shape[0],28,28,1)\n",
        "test_images = test_images.reshape(test_images.shape[0],28,28,1)"
      ]
    },
    {
      "cell_type": "code",
      "execution_count": 75,
      "id": "aee66469-3226-4282-9755-2eb9a46766f2",
      "metadata": {
        "colab": {
          "base_uri": "https://localhost:8080/"
        },
        "id": "aee66469-3226-4282-9755-2eb9a46766f2",
        "outputId": "aee77bb6-6313-43f9-eabd-32c4ac26b3b8"
      },
      "outputs": [
        {
          "output_type": "execute_result",
          "data": {
            "text/plain": [
              "(28, 28, 1)"
            ]
          },
          "metadata": {},
          "execution_count": 75
        }
      ],
      "source": [
        "train_images[0].shape"
      ]
    },
    {
      "cell_type": "code",
      "execution_count": 76,
      "id": "ce901e29-978a-4919-b05a-fd20ecbf4028",
      "metadata": {
        "colab": {
          "base_uri": "https://localhost:8080/"
        },
        "id": "ce901e29-978a-4919-b05a-fd20ecbf4028",
        "outputId": "d38ede1e-3080-4021-b8af-6ff9bdeacad2"
      },
      "outputs": [
        {
          "output_type": "execute_result",
          "data": {
            "text/plain": [
              "array([5, 0, 4, ..., 5, 6, 8], dtype=uint8)"
            ]
          },
          "metadata": {},
          "execution_count": 76
        }
      ],
      "source": [
        "train_labels"
      ]
    },
    {
      "cell_type": "code",
      "execution_count": 77,
      "id": "0a0323dd-2031-4210-b7ec-23b5572a0fd9",
      "metadata": {
        "id": "0a0323dd-2031-4210-b7ec-23b5572a0fd9"
      },
      "outputs": [],
      "source": [
        "data_augumentation = tf.keras.Sequential([\n",
        "    layers.RandomRotation(0.1),\n",
        "    layers.RandomFlip(),\n",
        "    layers.RandomZoom(0.1),\n",
        "    layers.RandomTranslation(0.1,0.1)\n",
        "])"
      ]
    },
    {
      "cell_type": "code",
      "execution_count": 78,
      "id": "33775a6e-bf5a-40b6-a4d6-e72c4fac6377",
      "metadata": {
        "id": "33775a6e-bf5a-40b6-a4d6-e72c4fac6377"
      },
      "outputs": [],
      "source": [
        "def create_model():\n",
        "    inputs = keras.Input(shape=(28,28,1))\n",
        "    x = data_augumentation(inputs)\n",
        "\n",
        "    x = keras.layers.Conv2D(32,3, activation=\"relu\", padding=\"same\")(x)\n",
        "    x = keras.layers.BatchNormalization()(x)\n",
        "    x = keras.layers.MaxPool2D(2)(x)\n",
        "    x = keras.layers.SpatialDropout2D(0.2)(x)\n",
        "\n",
        "    x = keras.layers.Conv2D(64,3, activation=\"relu\", padding=\"same\")(x)\n",
        "    x = keras.layers.BatchNormalization()(x)\n",
        "    x = keras.layers.Conv2D(64,3, activation=\"relu\", padding=\"same\")(x)\n",
        "    x = keras.layers.MaxPool2D(2)(x)\n",
        "    x = keras.layers.SpatialDropout2D(0.2)(x)\n",
        "\n",
        "    residual = x\n",
        "    x = keras.layers.Conv2D(64,3, activation=\"relu\", padding=\"same\")(x)\n",
        "    x = keras.layers.BatchNormalization()(x)\n",
        "    x = keras.layers.Conv2D(64,3, activation=\"relu\", padding=\"same\")(x)\n",
        "    x = keras.layers.BatchNormalization()(x)\n",
        "    x = keras.layers.add([x, residual])\n",
        "\n",
        "    x = keras.layers.GlobalAveragePooling2D()(x)\n",
        "    x = keras.layers.Dense(256, activation=\"relu\")(x)\n",
        "    outputs = keras.layers.Dense(10, activation=\"softmax\")(x)\n",
        "\n",
        "    model = keras.Model(inputs, outputs)\n",
        "    return model\n",
        "\n",
        "\n",
        "\n"
      ]
    },
    {
      "cell_type": "code",
      "execution_count": 79,
      "id": "9b08146d-ff0c-40d8-9945-ae4a42135dc7",
      "metadata": {
        "id": "9b08146d-ff0c-40d8-9945-ae4a42135dc7"
      },
      "outputs": [],
      "source": [
        "model = create_model()"
      ]
    },
    {
      "cell_type": "code",
      "execution_count": 80,
      "id": "1109d31a-1fe9-4c7c-ad4b-322dd73c34c2",
      "metadata": {
        "id": "1109d31a-1fe9-4c7c-ad4b-322dd73c34c2"
      },
      "outputs": [],
      "source": [
        "from keras.optimizers import Adam"
      ]
    },
    {
      "cell_type": "code",
      "execution_count": 81,
      "id": "a9c3bdea-8469-4359-89a4-8021e82a85c5",
      "metadata": {
        "id": "a9c3bdea-8469-4359-89a4-8021e82a85c5"
      },
      "outputs": [],
      "source": [
        "model.compile(optimizer = Adam(learning_rate=0.001), loss = \"sparse_categorical_crossentropy\", metrics = ['accuracy'])"
      ]
    },
    {
      "cell_type": "code",
      "execution_count": 82,
      "id": "2bc8e18a-723c-4e64-9a39-a3bd8c53987d",
      "metadata": {
        "colab": {
          "base_uri": "https://localhost:8080/"
        },
        "id": "2bc8e18a-723c-4e64-9a39-a3bd8c53987d",
        "outputId": "14d28e93-a6a7-4937-bc5f-5d50471040d3"
      },
      "outputs": [
        {
          "output_type": "stream",
          "name": "stdout",
          "text": [
            "Epoch 1/50\n",
            "\u001b[1m1875/1875\u001b[0m \u001b[32m━━━━━━━━━━━━━━━━━━━━\u001b[0m\u001b[37m\u001b[0m \u001b[1m31s\u001b[0m 13ms/step - accuracy: 0.5899 - loss: 1.1351\n",
            "Epoch 2/50\n",
            "\u001b[1m1875/1875\u001b[0m \u001b[32m━━━━━━━━━━━━━━━━━━━━\u001b[0m\u001b[37m\u001b[0m \u001b[1m37s\u001b[0m 11ms/step - accuracy: 0.8757 - loss: 0.3705\n",
            "Epoch 3/50\n",
            "\u001b[1m1875/1875\u001b[0m \u001b[32m━━━━━━━━━━━━━━━━━━━━\u001b[0m\u001b[37m\u001b[0m \u001b[1m19s\u001b[0m 10ms/step - accuracy: 0.8998 - loss: 0.2999\n",
            "Epoch 4/50\n",
            "\u001b[1m1875/1875\u001b[0m \u001b[32m━━━━━━━━━━━━━━━━━━━━\u001b[0m\u001b[37m\u001b[0m \u001b[1m22s\u001b[0m 10ms/step - accuracy: 0.9113 - loss: 0.2629\n",
            "Epoch 5/50\n",
            "\u001b[1m1875/1875\u001b[0m \u001b[32m━━━━━━━━━━━━━━━━━━━━\u001b[0m\u001b[37m\u001b[0m \u001b[1m19s\u001b[0m 10ms/step - accuracy: 0.9175 - loss: 0.2458\n",
            "Epoch 6/50\n",
            "\u001b[1m1875/1875\u001b[0m \u001b[32m━━━━━━━━━━━━━━━━━━━━\u001b[0m\u001b[37m\u001b[0m \u001b[1m22s\u001b[0m 10ms/step - accuracy: 0.9227 - loss: 0.2342\n",
            "Epoch 7/50\n",
            "\u001b[1m1875/1875\u001b[0m \u001b[32m━━━━━━━━━━━━━━━━━━━━\u001b[0m\u001b[37m\u001b[0m \u001b[1m19s\u001b[0m 10ms/step - accuracy: 0.9267 - loss: 0.2186\n",
            "Epoch 8/50\n",
            "\u001b[1m1875/1875\u001b[0m \u001b[32m━━━━━━━━━━━━━━━━━━━━\u001b[0m\u001b[37m\u001b[0m \u001b[1m24s\u001b[0m 12ms/step - accuracy: 0.9287 - loss: 0.2139\n",
            "Epoch 9/50\n",
            "\u001b[1m1875/1875\u001b[0m \u001b[32m━━━━━━━━━━━━━━━━━━━━\u001b[0m\u001b[37m\u001b[0m \u001b[1m38s\u001b[0m 10ms/step - accuracy: 0.9313 - loss: 0.2033\n",
            "Epoch 10/50\n",
            "\u001b[1m1875/1875\u001b[0m \u001b[32m━━━━━━━━━━━━━━━━━━━━\u001b[0m\u001b[37m\u001b[0m \u001b[1m19s\u001b[0m 10ms/step - accuracy: 0.9330 - loss: 0.1947\n",
            "Epoch 11/50\n",
            "\u001b[1m1875/1875\u001b[0m \u001b[32m━━━━━━━━━━━━━━━━━━━━\u001b[0m\u001b[37m\u001b[0m \u001b[1m22s\u001b[0m 10ms/step - accuracy: 0.9349 - loss: 0.1947\n",
            "Epoch 12/50\n",
            "\u001b[1m1875/1875\u001b[0m \u001b[32m━━━━━━━━━━━━━━━━━━━━\u001b[0m\u001b[37m\u001b[0m \u001b[1m19s\u001b[0m 10ms/step - accuracy: 0.9396 - loss: 0.1802\n",
            "Epoch 13/50\n",
            "\u001b[1m1875/1875\u001b[0m \u001b[32m━━━━━━━━━━━━━━━━━━━━\u001b[0m\u001b[37m\u001b[0m \u001b[1m19s\u001b[0m 10ms/step - accuracy: 0.9396 - loss: 0.1772\n",
            "Epoch 14/50\n",
            "\u001b[1m1875/1875\u001b[0m \u001b[32m━━━━━━━━━━━━━━━━━━━━\u001b[0m\u001b[37m\u001b[0m \u001b[1m19s\u001b[0m 10ms/step - accuracy: 0.9374 - loss: 0.1828\n",
            "Epoch 15/50\n",
            "\u001b[1m1875/1875\u001b[0m \u001b[32m━━━━━━━━━━━━━━━━━━━━\u001b[0m\u001b[37m\u001b[0m \u001b[1m22s\u001b[0m 10ms/step - accuracy: 0.9406 - loss: 0.1769\n",
            "Epoch 16/50\n",
            "\u001b[1m1875/1875\u001b[0m \u001b[32m━━━━━━━━━━━━━━━━━━━━\u001b[0m\u001b[37m\u001b[0m \u001b[1m19s\u001b[0m 10ms/step - accuracy: 0.9431 - loss: 0.1697\n",
            "Epoch 17/50\n",
            "\u001b[1m1875/1875\u001b[0m \u001b[32m━━━━━━━━━━━━━━━━━━━━\u001b[0m\u001b[37m\u001b[0m \u001b[1m21s\u001b[0m 10ms/step - accuracy: 0.9444 - loss: 0.1669\n",
            "Epoch 18/50\n",
            "\u001b[1m1875/1875\u001b[0m \u001b[32m━━━━━━━━━━━━━━━━━━━━\u001b[0m\u001b[37m\u001b[0m \u001b[1m19s\u001b[0m 9ms/step - accuracy: 0.9451 - loss: 0.1604\n",
            "Epoch 19/50\n",
            "\u001b[1m1875/1875\u001b[0m \u001b[32m━━━━━━━━━━━━━━━━━━━━\u001b[0m\u001b[37m\u001b[0m \u001b[1m19s\u001b[0m 10ms/step - accuracy: 0.9438 - loss: 0.1617\n",
            "Epoch 20/50\n",
            "\u001b[1m1875/1875\u001b[0m \u001b[32m━━━━━━━━━━━━━━━━━━━━\u001b[0m\u001b[37m\u001b[0m \u001b[1m18s\u001b[0m 10ms/step - accuracy: 0.9457 - loss: 0.1627\n",
            "Epoch 21/50\n",
            "\u001b[1m1875/1875\u001b[0m \u001b[32m━━━━━━━━━━━━━━━━━━━━\u001b[0m\u001b[37m\u001b[0m \u001b[1m22s\u001b[0m 10ms/step - accuracy: 0.9453 - loss: 0.1583\n",
            "Epoch 22/50\n",
            "\u001b[1m1875/1875\u001b[0m \u001b[32m━━━━━━━━━━━━━━━━━━━━\u001b[0m\u001b[37m\u001b[0m \u001b[1m19s\u001b[0m 9ms/step - accuracy: 0.9468 - loss: 0.1539\n",
            "Epoch 23/50\n",
            "\u001b[1m1875/1875\u001b[0m \u001b[32m━━━━━━━━━━━━━━━━━━━━\u001b[0m\u001b[37m\u001b[0m \u001b[1m21s\u001b[0m 10ms/step - accuracy: 0.9498 - loss: 0.1476\n",
            "Epoch 24/50\n",
            "\u001b[1m1875/1875\u001b[0m \u001b[32m━━━━━━━━━━━━━━━━━━━━\u001b[0m\u001b[37m\u001b[0m \u001b[1m19s\u001b[0m 10ms/step - accuracy: 0.9479 - loss: 0.1534\n",
            "Epoch 25/50\n",
            "\u001b[1m1875/1875\u001b[0m \u001b[32m━━━━━━━━━━━━━━━━━━━━\u001b[0m\u001b[37m\u001b[0m \u001b[1m19s\u001b[0m 10ms/step - accuracy: 0.9499 - loss: 0.1462\n",
            "Epoch 26/50\n",
            "\u001b[1m1875/1875\u001b[0m \u001b[32m━━━━━━━━━━━━━━━━━━━━\u001b[0m\u001b[37m\u001b[0m \u001b[1m21s\u001b[0m 10ms/step - accuracy: 0.9483 - loss: 0.1499\n",
            "Epoch 27/50\n",
            "\u001b[1m1875/1875\u001b[0m \u001b[32m━━━━━━━━━━━━━━━━━━━━\u001b[0m\u001b[37m\u001b[0m \u001b[1m19s\u001b[0m 10ms/step - accuracy: 0.9486 - loss: 0.1505\n",
            "Epoch 28/50\n",
            "\u001b[1m1875/1875\u001b[0m \u001b[32m━━━━━━━━━━━━━━━━━━━━\u001b[0m\u001b[37m\u001b[0m \u001b[1m22s\u001b[0m 10ms/step - accuracy: 0.9480 - loss: 0.1520\n",
            "Epoch 29/50\n",
            "\u001b[1m1875/1875\u001b[0m \u001b[32m━━━━━━━━━━━━━━━━━━━━\u001b[0m\u001b[37m\u001b[0m \u001b[1m19s\u001b[0m 9ms/step - accuracy: 0.9487 - loss: 0.1507\n",
            "Epoch 30/50\n",
            "\u001b[1m1875/1875\u001b[0m \u001b[32m━━━━━━━━━━━━━━━━━━━━\u001b[0m\u001b[37m\u001b[0m \u001b[1m21s\u001b[0m 10ms/step - accuracy: 0.9504 - loss: 0.1443\n",
            "Epoch 31/50\n",
            "\u001b[1m1875/1875\u001b[0m \u001b[32m━━━━━━━━━━━━━━━━━━━━\u001b[0m\u001b[37m\u001b[0m \u001b[1m18s\u001b[0m 10ms/step - accuracy: 0.9515 - loss: 0.1440\n",
            "Epoch 32/50\n",
            "\u001b[1m1875/1875\u001b[0m \u001b[32m━━━━━━━━━━━━━━━━━━━━\u001b[0m\u001b[37m\u001b[0m \u001b[1m21s\u001b[0m 11ms/step - accuracy: 0.9527 - loss: 0.1404\n",
            "Epoch 33/50\n",
            "\u001b[1m1875/1875\u001b[0m \u001b[32m━━━━━━━━━━━━━━━━━━━━\u001b[0m\u001b[37m\u001b[0m \u001b[1m18s\u001b[0m 10ms/step - accuracy: 0.9527 - loss: 0.1397\n",
            "Epoch 34/50\n",
            "\u001b[1m1875/1875\u001b[0m \u001b[32m━━━━━━━━━━━━━━━━━━━━\u001b[0m\u001b[37m\u001b[0m \u001b[1m19s\u001b[0m 10ms/step - accuracy: 0.9511 - loss: 0.1422\n",
            "Epoch 35/50\n",
            "\u001b[1m1875/1875\u001b[0m \u001b[32m━━━━━━━━━━━━━━━━━━━━\u001b[0m\u001b[37m\u001b[0m \u001b[1m19s\u001b[0m 10ms/step - accuracy: 0.9533 - loss: 0.1354\n",
            "Epoch 36/50\n",
            "\u001b[1m1875/1875\u001b[0m \u001b[32m━━━━━━━━━━━━━━━━━━━━\u001b[0m\u001b[37m\u001b[0m \u001b[1m22s\u001b[0m 10ms/step - accuracy: 0.9526 - loss: 0.1391\n",
            "Epoch 37/50\n",
            "\u001b[1m1875/1875\u001b[0m \u001b[32m━━━━━━━━━━━━━━━━━━━━\u001b[0m\u001b[37m\u001b[0m \u001b[1m19s\u001b[0m 10ms/step - accuracy: 0.9532 - loss: 0.1356\n",
            "Epoch 38/50\n",
            "\u001b[1m1875/1875\u001b[0m \u001b[32m━━━━━━━━━━━━━━━━━━━━\u001b[0m\u001b[37m\u001b[0m \u001b[1m21s\u001b[0m 10ms/step - accuracy: 0.9521 - loss: 0.1400\n",
            "Epoch 39/50\n",
            "\u001b[1m1875/1875\u001b[0m \u001b[32m━━━━━━━━━━━━━━━━━━━━\u001b[0m\u001b[37m\u001b[0m \u001b[1m20s\u001b[0m 10ms/step - accuracy: 0.9520 - loss: 0.1392\n",
            "Epoch 40/50\n",
            "\u001b[1m1875/1875\u001b[0m \u001b[32m━━━━━━━━━━━━━━━━━━━━\u001b[0m\u001b[37m\u001b[0m \u001b[1m21s\u001b[0m 10ms/step - accuracy: 0.9551 - loss: 0.1310\n",
            "Epoch 41/50\n",
            "\u001b[1m1875/1875\u001b[0m \u001b[32m━━━━━━━━━━━━━━━━━━━━\u001b[0m\u001b[37m\u001b[0m \u001b[1m20s\u001b[0m 10ms/step - accuracy: 0.9559 - loss: 0.1311\n",
            "Epoch 42/50\n",
            "\u001b[1m1875/1875\u001b[0m \u001b[32m━━━━━━━━━━━━━━━━━━━━\u001b[0m\u001b[37m\u001b[0m \u001b[1m20s\u001b[0m 10ms/step - accuracy: 0.9544 - loss: 0.1310\n",
            "Epoch 43/50\n",
            "\u001b[1m1875/1875\u001b[0m \u001b[32m━━━━━━━━━━━━━━━━━━━━\u001b[0m\u001b[37m\u001b[0m \u001b[1m21s\u001b[0m 10ms/step - accuracy: 0.9540 - loss: 0.1344\n",
            "Epoch 44/50\n",
            "\u001b[1m1875/1875\u001b[0m \u001b[32m━━━━━━━━━━━━━━━━━━━━\u001b[0m\u001b[37m\u001b[0m \u001b[1m18s\u001b[0m 10ms/step - accuracy: 0.9566 - loss: 0.1328\n",
            "Epoch 45/50\n",
            "\u001b[1m1875/1875\u001b[0m \u001b[32m━━━━━━━━━━━━━━━━━━━━\u001b[0m\u001b[37m\u001b[0m \u001b[1m21s\u001b[0m 10ms/step - accuracy: 0.9573 - loss: 0.1257\n",
            "Epoch 46/50\n",
            "\u001b[1m1875/1875\u001b[0m \u001b[32m━━━━━━━━━━━━━━━━━━━━\u001b[0m\u001b[37m\u001b[0m \u001b[1m19s\u001b[0m 10ms/step - accuracy: 0.9550 - loss: 0.1283\n",
            "Epoch 47/50\n",
            "\u001b[1m1875/1875\u001b[0m \u001b[32m━━━━━━━━━━━━━━━━━━━━\u001b[0m\u001b[37m\u001b[0m \u001b[1m21s\u001b[0m 10ms/step - accuracy: 0.9570 - loss: 0.1244\n",
            "Epoch 48/50\n",
            "\u001b[1m1875/1875\u001b[0m \u001b[32m━━━━━━━━━━━━━━━━━━━━\u001b[0m\u001b[37m\u001b[0m \u001b[1m21s\u001b[0m 10ms/step - accuracy: 0.9562 - loss: 0.1292\n",
            "Epoch 49/50\n",
            "\u001b[1m1875/1875\u001b[0m \u001b[32m━━━━━━━━━━━━━━━━━━━━\u001b[0m\u001b[37m\u001b[0m \u001b[1m20s\u001b[0m 10ms/step - accuracy: 0.9562 - loss: 0.1288\n",
            "Epoch 50/50\n",
            "\u001b[1m1875/1875\u001b[0m \u001b[32m━━━━━━━━━━━━━━━━━━━━\u001b[0m\u001b[37m\u001b[0m \u001b[1m18s\u001b[0m 10ms/step - accuracy: 0.9579 - loss: 0.1227\n"
          ]
        }
      ],
      "source": [
        "history = model.fit(train_images, train_labels, epochs=50)\n"
      ]
    },
    {
      "cell_type": "code",
      "execution_count": 100,
      "id": "2c64d566-4b7f-4a79-bfd7-22e4844c7a5b",
      "metadata": {
        "id": "2c64d566-4b7f-4a79-bfd7-22e4844c7a5b"
      },
      "outputs": [],
      "source": [
        "import joblib"
      ]
    },
    {
      "cell_type": "code",
      "execution_count": 84,
      "id": "9f9560f3-4ace-4eb5-9373-05b50cbbe0b1",
      "metadata": {
        "colab": {
          "base_uri": "https://localhost:8080/"
        },
        "id": "9f9560f3-4ace-4eb5-9373-05b50cbbe0b1",
        "outputId": "611cdfb9-e314-4552-dc27-564994b23869"
      },
      "outputs": [
        {
          "output_type": "execute_result",
          "data": {
            "text/plain": [
              "['model.pkl']"
            ]
          },
          "metadata": {},
          "execution_count": 84
        }
      ],
      "source": [
        "joblib.dump(model, \"model.pkl\")"
      ]
    },
    {
      "cell_type": "code",
      "execution_count": 85,
      "id": "64ab3280-923d-44bb-bc56-1f9e28a3f4f7",
      "metadata": {
        "colab": {
          "base_uri": "https://localhost:8080/"
        },
        "id": "64ab3280-923d-44bb-bc56-1f9e28a3f4f7",
        "outputId": "259f5742-8561-49e6-f300-922cd9aa688a"
      },
      "outputs": [
        {
          "output_type": "stream",
          "name": "stdout",
          "text": [
            "\u001b[1m313/313\u001b[0m \u001b[32m━━━━━━━━━━━━━━━━━━━━\u001b[0m\u001b[37m\u001b[0m \u001b[1m1s\u001b[0m 2ms/step\n"
          ]
        }
      ],
      "source": [
        "y_pred = model.predict(test_images).argmax(axis =1)"
      ]
    },
    {
      "cell_type": "code",
      "execution_count": 86,
      "id": "e89b951c-0a21-4cb3-848c-a2c9d8607d09",
      "metadata": {
        "colab": {
          "base_uri": "https://localhost:8080/"
        },
        "id": "e89b951c-0a21-4cb3-848c-a2c9d8607d09",
        "outputId": "c0c72766-6ef4-4e03-c413-533b8bb20795"
      },
      "outputs": [
        {
          "output_type": "execute_result",
          "data": {
            "text/plain": [
              "array([7, 2, 1, ..., 4, 5, 6])"
            ]
          },
          "metadata": {},
          "execution_count": 86
        }
      ],
      "source": [
        "y_pred\n"
      ]
    },
    {
      "cell_type": "code",
      "execution_count": 87,
      "id": "c615dd3c-0eed-4237-8ab6-529af815ed7e",
      "metadata": {
        "id": "c615dd3c-0eed-4237-8ab6-529af815ed7e"
      },
      "outputs": [],
      "source": [
        "from sklearn.metrics import classification_report"
      ]
    },
    {
      "cell_type": "code",
      "execution_count": 88,
      "id": "66c75086-3285-47a0-b8a5-3dbeb53e9249",
      "metadata": {
        "id": "66c75086-3285-47a0-b8a5-3dbeb53e9249"
      },
      "outputs": [],
      "source": [
        "import pprint"
      ]
    },
    {
      "cell_type": "code",
      "execution_count": 89,
      "id": "89e787b9-1d6e-498c-a894-8c9746e0be74",
      "metadata": {
        "colab": {
          "base_uri": "https://localhost:8080/"
        },
        "id": "89e787b9-1d6e-498c-a894-8c9746e0be74",
        "outputId": "16455226-93d3-48dd-8c27-efe18cb484de"
      },
      "outputs": [
        {
          "output_type": "stream",
          "name": "stdout",
          "text": [
            "('              precision    recall  f1-score   support\\n'\n",
            " '\\n'\n",
            " '           0       0.99      0.99      0.99       981\\n'\n",
            " '           1       0.99      0.99      0.99      1131\\n'\n",
            " '           2       0.91      0.94      0.93       997\\n'\n",
            " '           3       0.99      0.98      0.99      1019\\n'\n",
            " '           4       0.99      0.98      0.98       995\\n'\n",
            " '           5       0.96      0.90      0.93       956\\n'\n",
            " '           6       0.93      0.93      0.93       959\\n'\n",
            " '           7       0.98      0.97      0.97      1041\\n'\n",
            " '           8       0.99      0.99      0.99       972\\n'\n",
            " '           9       0.91      0.97      0.94       949\\n'\n",
            " '\\n'\n",
            " '    accuracy                           0.96     10000\\n'\n",
            " '   macro avg       0.96      0.96      0.96     10000\\n'\n",
            " 'weighted avg       0.97      0.96      0.96     10000\\n')\n"
          ]
        }
      ],
      "source": [
        "pprint.pprint(classification_report(y_pred, test_labels))"
      ]
    },
    {
      "cell_type": "code",
      "execution_count": 90,
      "id": "7fe9ee7b-9565-4cac-893a-f890497bba5b",
      "metadata": {
        "id": "7fe9ee7b-9565-4cac-893a-f890497bba5b"
      },
      "outputs": [],
      "source": [
        "### New image predictionnn"
      ]
    },
    {
      "cell_type": "code",
      "execution_count": 91,
      "id": "eb2d1a91-d404-48bb-b48c-38d49bd80076",
      "metadata": {
        "colab": {
          "base_uri": "https://localhost:8080/"
        },
        "id": "eb2d1a91-d404-48bb-b48c-38d49bd80076",
        "outputId": "73e8b39c-baab-4232-ca6c-34926f799116"
      },
      "outputs": [
        {
          "output_type": "stream",
          "name": "stdout",
          "text": [
            "Requirement already satisfied: pillow in /usr/local/lib/python3.10/dist-packages (9.4.0)\n"
          ]
        }
      ],
      "source": [
        "!pip install pillow"
      ]
    },
    {
      "cell_type": "code",
      "execution_count": 92,
      "id": "e3e2bc66-d8a9-40ca-a8a3-d187554cbc56",
      "metadata": {
        "id": "e3e2bc66-d8a9-40ca-a8a3-d187554cbc56"
      },
      "outputs": [],
      "source": [
        "import numpy as np\n",
        "from PIL import Image"
      ]
    },
    {
      "cell_type": "code",
      "execution_count": 93,
      "id": "4f04e041-760d-4e24-a3fd-e107b9704a38",
      "metadata": {
        "id": "4f04e041-760d-4e24-a3fd-e107b9704a38"
      },
      "outputs": [],
      "source": [
        "def preprocess_image(image_path):\n",
        "    # Open the image\n",
        "    img = Image.open(image_path)\n",
        "\n",
        "    # Convert to grayscale if it's not already\n",
        "    if img.mode != 'L':\n",
        "        img = img.convert('L')\n",
        "\n",
        "    # Resize to 28x28 pixels\n",
        "    img = img.resize((28, 28))\n",
        "\n",
        "    # Convert to numpy array and normalize\n",
        "    img_array = np.array(img).astype('float32') / 255.0\n",
        "\n",
        "    # Reshape to (1, 28, 28, 1) for model input\n",
        "    img_array = img_array.reshape(1, 28, 28, 1)\n",
        "\n",
        "    return img_array"
      ]
    },
    {
      "cell_type": "code",
      "execution_count": 94,
      "id": "6b094c7f-264e-4fa4-9d6c-7b64b0e4135a",
      "metadata": {
        "id": "6b094c7f-264e-4fa4-9d6c-7b64b0e4135a"
      },
      "outputs": [],
      "source": [
        "def predict_image(model, img_array):\n",
        "    prtediction = model.predict(img_array)\n",
        "    class_index = np.argmax(prtediction)\n",
        "\n",
        "    class_name = ['one', 'two', 'three', 'four', 'five', 'six', 'seven', 'eight', 'nine', 'ten']\n",
        "    predicted_class = class_name[class_index]\n",
        "    confidence = prtediction[0][class_index]\n",
        "    return predicted_class, confidence"
      ]
    },
    {
      "cell_type": "code",
      "execution_count": 134,
      "id": "89bc71b3-6fe8-430e-97c2-4c2aa38d301e",
      "metadata": {
        "id": "89bc71b3-6fe8-430e-97c2-4c2aa38d301e"
      },
      "outputs": [],
      "source": [
        "processed_image = preprocess_image(\"download (6).jpeg\")\n"
      ]
    },
    {
      "cell_type": "code",
      "execution_count": 135,
      "id": "7af7194b-b440-413b-89fd-1a2a21139d71",
      "metadata": {
        "colab": {
          "base_uri": "https://localhost:8080/"
        },
        "id": "7af7194b-b440-413b-89fd-1a2a21139d71",
        "outputId": "154dc759-3917-421c-9f5f-6ffa5ceb3190"
      },
      "outputs": [
        {
          "output_type": "execute_result",
          "data": {
            "text/plain": [
              "array([[[[0.9137255 ],\n",
              "         [0.9137255 ],\n",
              "         [0.9098039 ],\n",
              "         [0.9137255 ],\n",
              "         [0.9137255 ],\n",
              "         [0.91764706],\n",
              "         [0.91764706],\n",
              "         [0.9137255 ],\n",
              "         [0.9137255 ],\n",
              "         [0.9137255 ],\n",
              "         [0.9137255 ],\n",
              "         [0.91764706],\n",
              "         [0.91764706],\n",
              "         [0.91764706],\n",
              "         [0.91764706],\n",
              "         [0.91764706],\n",
              "         [0.92156863],\n",
              "         [0.91764706],\n",
              "         [0.91764706],\n",
              "         [0.91764706],\n",
              "         [0.91764706],\n",
              "         [0.92156863],\n",
              "         [0.91764706],\n",
              "         [0.91764706],\n",
              "         [0.91764706],\n",
              "         [0.91764706],\n",
              "         [0.91764706],\n",
              "         [0.91764706]],\n",
              "\n",
              "        [[0.9098039 ],\n",
              "         [0.9098039 ],\n",
              "         [0.9137255 ],\n",
              "         [0.9137255 ],\n",
              "         [0.9098039 ],\n",
              "         [0.9137255 ],\n",
              "         [0.9137255 ],\n",
              "         [0.9137255 ],\n",
              "         [0.9137255 ],\n",
              "         [0.91764706],\n",
              "         [0.91764706],\n",
              "         [0.91764706],\n",
              "         [0.91764706],\n",
              "         [0.91764706],\n",
              "         [0.91764706],\n",
              "         [0.91764706],\n",
              "         [0.91764706],\n",
              "         [0.91764706],\n",
              "         [0.91764706],\n",
              "         [0.91764706],\n",
              "         [0.91764706],\n",
              "         [0.91764706],\n",
              "         [0.91764706],\n",
              "         [0.9137255 ],\n",
              "         [0.91764706],\n",
              "         [0.91764706],\n",
              "         [0.91764706],\n",
              "         [0.9137255 ]],\n",
              "\n",
              "        [[0.9098039 ],\n",
              "         [0.9098039 ],\n",
              "         [0.9098039 ],\n",
              "         [0.9137255 ],\n",
              "         [0.9137255 ],\n",
              "         [0.9137255 ],\n",
              "         [0.9137255 ],\n",
              "         [0.9137255 ],\n",
              "         [0.91764706],\n",
              "         [0.91764706],\n",
              "         [0.9137255 ],\n",
              "         [0.91764706],\n",
              "         [0.91764706],\n",
              "         [0.9254902 ],\n",
              "         [0.9254902 ],\n",
              "         [0.92156863],\n",
              "         [0.91764706],\n",
              "         [0.9137255 ],\n",
              "         [0.9137255 ],\n",
              "         [0.9137255 ],\n",
              "         [0.91764706],\n",
              "         [0.9137255 ],\n",
              "         [0.9137255 ],\n",
              "         [0.9137255 ],\n",
              "         [0.9137255 ],\n",
              "         [0.9137255 ],\n",
              "         [0.91764706],\n",
              "         [0.9137255 ]],\n",
              "\n",
              "        [[0.9098039 ],\n",
              "         [0.9098039 ],\n",
              "         [0.9098039 ],\n",
              "         [0.9098039 ],\n",
              "         [0.9098039 ],\n",
              "         [0.9098039 ],\n",
              "         [0.9137255 ],\n",
              "         [0.9137255 ],\n",
              "         [0.9137255 ],\n",
              "         [0.91764706],\n",
              "         [0.9137255 ],\n",
              "         [0.92156863],\n",
              "         [0.9372549 ],\n",
              "         [0.8745098 ],\n",
              "         [0.87058824],\n",
              "         [0.9098039 ],\n",
              "         [0.9137255 ],\n",
              "         [0.9137255 ],\n",
              "         [0.9137255 ],\n",
              "         [0.9137255 ],\n",
              "         [0.9137255 ],\n",
              "         [0.9098039 ],\n",
              "         [0.9137255 ],\n",
              "         [0.9137255 ],\n",
              "         [0.9137255 ],\n",
              "         [0.9137255 ],\n",
              "         [0.9137255 ],\n",
              "         [0.9137255 ]],\n",
              "\n",
              "        [[0.9098039 ],\n",
              "         [0.9098039 ],\n",
              "         [0.90588236],\n",
              "         [0.9019608 ],\n",
              "         [0.9098039 ],\n",
              "         [0.9098039 ],\n",
              "         [0.9098039 ],\n",
              "         [0.9098039 ],\n",
              "         [0.9098039 ],\n",
              "         [0.9098039 ],\n",
              "         [0.9411765 ],\n",
              "         [0.88235295],\n",
              "         [0.4392157 ],\n",
              "         [0.13725491],\n",
              "         [0.16862746],\n",
              "         [0.7921569 ],\n",
              "         [0.9254902 ],\n",
              "         [0.9137255 ],\n",
              "         [0.9098039 ],\n",
              "         [0.9098039 ],\n",
              "         [0.90588236],\n",
              "         [0.9098039 ],\n",
              "         [0.9098039 ],\n",
              "         [0.9137255 ],\n",
              "         [0.9098039 ],\n",
              "         [0.9098039 ],\n",
              "         [0.9098039 ],\n",
              "         [0.9098039 ]],\n",
              "\n",
              "        [[0.9098039 ],\n",
              "         [0.9098039 ],\n",
              "         [0.9098039 ],\n",
              "         [0.90588236],\n",
              "         [0.9098039 ],\n",
              "         [0.9019608 ],\n",
              "         [0.9098039 ],\n",
              "         [0.90588236],\n",
              "         [0.9254902 ],\n",
              "         [0.9411765 ],\n",
              "         [0.6784314 ],\n",
              "         [0.18431373],\n",
              "         [0.        ],\n",
              "         [0.        ],\n",
              "         [0.00392157],\n",
              "         [0.69803923],\n",
              "         [0.93333334],\n",
              "         [0.9098039 ],\n",
              "         [0.90588236],\n",
              "         [0.9098039 ],\n",
              "         [0.90588236],\n",
              "         [0.9098039 ],\n",
              "         [0.9098039 ],\n",
              "         [0.9098039 ],\n",
              "         [0.9098039 ],\n",
              "         [0.9098039 ],\n",
              "         [0.9098039 ],\n",
              "         [0.9098039 ]],\n",
              "\n",
              "        [[0.90588236],\n",
              "         [0.9019608 ],\n",
              "         [0.9098039 ],\n",
              "         [0.9098039 ],\n",
              "         [0.9098039 ],\n",
              "         [0.9019608 ],\n",
              "         [0.9098039 ],\n",
              "         [0.9254902 ],\n",
              "         [0.8039216 ],\n",
              "         [0.34509805],\n",
              "         [0.02352941],\n",
              "         [0.        ],\n",
              "         [0.01568628],\n",
              "         [0.01176471],\n",
              "         [0.        ],\n",
              "         [0.65882355],\n",
              "         [0.9372549 ],\n",
              "         [0.9098039 ],\n",
              "         [0.9019608 ],\n",
              "         [0.90588236],\n",
              "         [0.9098039 ],\n",
              "         [0.9098039 ],\n",
              "         [0.9098039 ],\n",
              "         [0.9098039 ],\n",
              "         [0.9098039 ],\n",
              "         [0.9098039 ],\n",
              "         [0.9098039 ],\n",
              "         [0.9019608 ]],\n",
              "\n",
              "        [[0.90588236],\n",
              "         [0.90588236],\n",
              "         [0.90588236],\n",
              "         [0.9098039 ],\n",
              "         [0.9019608 ],\n",
              "         [0.90588236],\n",
              "         [0.9254902 ],\n",
              "         [0.7058824 ],\n",
              "         [0.10196079],\n",
              "         [0.        ],\n",
              "         [0.        ],\n",
              "         [0.0627451 ],\n",
              "         [0.05098039],\n",
              "         [0.03137255],\n",
              "         [0.        ],\n",
              "         [0.6666667 ],\n",
              "         [0.9372549 ],\n",
              "         [0.9019608 ],\n",
              "         [0.9019608 ],\n",
              "         [0.90588236],\n",
              "         [0.90588236],\n",
              "         [0.9098039 ],\n",
              "         [0.9098039 ],\n",
              "         [0.9019608 ],\n",
              "         [0.9098039 ],\n",
              "         [0.9019608 ],\n",
              "         [0.9019608 ],\n",
              "         [0.9019608 ]],\n",
              "\n",
              "        [[0.90588236],\n",
              "         [0.90588236],\n",
              "         [0.90588236],\n",
              "         [0.9019608 ],\n",
              "         [0.9019608 ],\n",
              "         [0.9019608 ],\n",
              "         [0.92156863],\n",
              "         [0.72156864],\n",
              "         [0.01176471],\n",
              "         [0.00784314],\n",
              "         [0.35686275],\n",
              "         [0.6156863 ],\n",
              "         [0.01176471],\n",
              "         [0.        ],\n",
              "         [0.        ],\n",
              "         [0.6666667 ],\n",
              "         [0.9254902 ],\n",
              "         [0.8980392 ],\n",
              "         [0.9019608 ],\n",
              "         [0.9019608 ],\n",
              "         [0.9098039 ],\n",
              "         [0.90588236],\n",
              "         [0.9019608 ],\n",
              "         [0.9019608 ],\n",
              "         [0.9019608 ],\n",
              "         [0.9019608 ],\n",
              "         [0.9019608 ],\n",
              "         [0.90588236]],\n",
              "\n",
              "        [[0.8980392 ],\n",
              "         [0.8980392 ],\n",
              "         [0.8980392 ],\n",
              "         [0.8980392 ],\n",
              "         [0.8980392 ],\n",
              "         [0.8980392 ],\n",
              "         [0.9137255 ],\n",
              "         [0.7647059 ],\n",
              "         [0.28235295],\n",
              "         [0.6627451 ],\n",
              "         [0.9411765 ],\n",
              "         [0.75686276],\n",
              "         [0.01960784],\n",
              "         [0.        ],\n",
              "         [0.        ],\n",
              "         [0.69411767],\n",
              "         [0.92941177],\n",
              "         [0.9019608 ],\n",
              "         [0.9019608 ],\n",
              "         [0.9019608 ],\n",
              "         [0.8980392 ],\n",
              "         [0.9019608 ],\n",
              "         [0.9019608 ],\n",
              "         [0.9019608 ],\n",
              "         [0.9019608 ],\n",
              "         [0.9019608 ],\n",
              "         [0.9019608 ],\n",
              "         [0.9019608 ]],\n",
              "\n",
              "        [[0.8980392 ],\n",
              "         [0.8980392 ],\n",
              "         [0.8980392 ],\n",
              "         [0.8980392 ],\n",
              "         [0.8980392 ],\n",
              "         [0.8980392 ],\n",
              "         [0.9019608 ],\n",
              "         [0.8980392 ],\n",
              "         [0.89411765],\n",
              "         [0.9254902 ],\n",
              "         [0.9137255 ],\n",
              "         [0.7882353 ],\n",
              "         [0.04313726],\n",
              "         [0.        ],\n",
              "         [0.02745098],\n",
              "         [0.7607843 ],\n",
              "         [0.92156863],\n",
              "         [0.8980392 ],\n",
              "         [0.9019608 ],\n",
              "         [0.9019608 ],\n",
              "         [0.8980392 ],\n",
              "         [0.8980392 ],\n",
              "         [0.9019608 ],\n",
              "         [0.9019608 ],\n",
              "         [0.9019608 ],\n",
              "         [0.90588236],\n",
              "         [0.90588236],\n",
              "         [0.8980392 ]],\n",
              "\n",
              "        [[0.89411765],\n",
              "         [0.89411765],\n",
              "         [0.8980392 ],\n",
              "         [0.8980392 ],\n",
              "         [0.89411765],\n",
              "         [0.8980392 ],\n",
              "         [0.89411765],\n",
              "         [0.8980392 ],\n",
              "         [0.8980392 ],\n",
              "         [0.8980392 ],\n",
              "         [0.9098039 ],\n",
              "         [0.7882353 ],\n",
              "         [0.04313726],\n",
              "         [0.        ],\n",
              "         [0.03921569],\n",
              "         [0.78431374],\n",
              "         [0.9137255 ],\n",
              "         [0.8980392 ],\n",
              "         [0.8980392 ],\n",
              "         [0.8980392 ],\n",
              "         [0.8980392 ],\n",
              "         [0.9019608 ],\n",
              "         [0.8980392 ],\n",
              "         [0.8980392 ],\n",
              "         [0.8980392 ],\n",
              "         [0.8980392 ],\n",
              "         [0.8980392 ],\n",
              "         [0.8980392 ]],\n",
              "\n",
              "        [[0.89411765],\n",
              "         [0.89411765],\n",
              "         [0.89411765],\n",
              "         [0.89411765],\n",
              "         [0.89411765],\n",
              "         [0.8980392 ],\n",
              "         [0.8980392 ],\n",
              "         [0.8980392 ],\n",
              "         [0.8980392 ],\n",
              "         [0.8980392 ],\n",
              "         [0.9098039 ],\n",
              "         [0.79607844],\n",
              "         [0.05098039],\n",
              "         [0.        ],\n",
              "         [0.03921569],\n",
              "         [0.77254903],\n",
              "         [0.9098039 ],\n",
              "         [0.8980392 ],\n",
              "         [0.8980392 ],\n",
              "         [0.8980392 ],\n",
              "         [0.8980392 ],\n",
              "         [0.8980392 ],\n",
              "         [0.8980392 ],\n",
              "         [0.89411765],\n",
              "         [0.8980392 ],\n",
              "         [0.89411765],\n",
              "         [0.8980392 ],\n",
              "         [0.89411765]],\n",
              "\n",
              "        [[0.89411765],\n",
              "         [0.89411765],\n",
              "         [0.89411765],\n",
              "         [0.89411765],\n",
              "         [0.89411765],\n",
              "         [0.89411765],\n",
              "         [0.8980392 ],\n",
              "         [0.8980392 ],\n",
              "         [0.89411765],\n",
              "         [0.8980392 ],\n",
              "         [0.9137255 ],\n",
              "         [0.8039216 ],\n",
              "         [0.05490196],\n",
              "         [0.        ],\n",
              "         [0.03921569],\n",
              "         [0.78039217],\n",
              "         [0.9137255 ],\n",
              "         [0.89411765],\n",
              "         [0.89411765],\n",
              "         [0.8980392 ],\n",
              "         [0.89411765],\n",
              "         [0.8980392 ],\n",
              "         [0.89411765],\n",
              "         [0.8980392 ],\n",
              "         [0.8980392 ],\n",
              "         [0.8980392 ],\n",
              "         [0.89411765],\n",
              "         [0.89411765]],\n",
              "\n",
              "        [[0.89411765],\n",
              "         [0.8901961 ],\n",
              "         [0.89411765],\n",
              "         [0.89411765],\n",
              "         [0.89411765],\n",
              "         [0.89411765],\n",
              "         [0.89411765],\n",
              "         [0.89411765],\n",
              "         [0.89411765],\n",
              "         [0.8980392 ],\n",
              "         [0.9137255 ],\n",
              "         [0.8117647 ],\n",
              "         [0.07058824],\n",
              "         [0.        ],\n",
              "         [0.04705882],\n",
              "         [0.7921569 ],\n",
              "         [0.9098039 ],\n",
              "         [0.8980392 ],\n",
              "         [0.8980392 ],\n",
              "         [0.89411765],\n",
              "         [0.8901961 ],\n",
              "         [0.89411765],\n",
              "         [0.8980392 ],\n",
              "         [0.8980392 ],\n",
              "         [0.89411765],\n",
              "         [0.89411765],\n",
              "         [0.8980392 ],\n",
              "         [0.89411765]],\n",
              "\n",
              "        [[0.8901961 ],\n",
              "         [0.8901961 ],\n",
              "         [0.8901961 ],\n",
              "         [0.89411765],\n",
              "         [0.89411765],\n",
              "         [0.89411765],\n",
              "         [0.8980392 ],\n",
              "         [0.8980392 ],\n",
              "         [0.89411765],\n",
              "         [0.89411765],\n",
              "         [0.90588236],\n",
              "         [0.8235294 ],\n",
              "         [0.07843138],\n",
              "         [0.        ],\n",
              "         [0.0627451 ],\n",
              "         [0.80784315],\n",
              "         [0.90588236],\n",
              "         [0.8980392 ],\n",
              "         [0.8980392 ],\n",
              "         [0.89411765],\n",
              "         [0.89411765],\n",
              "         [0.8980392 ],\n",
              "         [0.8980392 ],\n",
              "         [0.89411765],\n",
              "         [0.8980392 ],\n",
              "         [0.89411765],\n",
              "         [0.89411765],\n",
              "         [0.89411765]],\n",
              "\n",
              "        [[0.8901961 ],\n",
              "         [0.89411765],\n",
              "         [0.89411765],\n",
              "         [0.89411765],\n",
              "         [0.89411765],\n",
              "         [0.89411765],\n",
              "         [0.89411765],\n",
              "         [0.89411765],\n",
              "         [0.89411765],\n",
              "         [0.89411765],\n",
              "         [0.90588236],\n",
              "         [0.8235294 ],\n",
              "         [0.07843138],\n",
              "         [0.        ],\n",
              "         [0.05098039],\n",
              "         [0.7882353 ],\n",
              "         [0.9098039 ],\n",
              "         [0.8901961 ],\n",
              "         [0.8901961 ],\n",
              "         [0.89411765],\n",
              "         [0.89411765],\n",
              "         [0.89411765],\n",
              "         [0.89411765],\n",
              "         [0.89411765],\n",
              "         [0.8980392 ],\n",
              "         [0.89411765],\n",
              "         [0.89411765],\n",
              "         [0.89411765]],\n",
              "\n",
              "        [[0.8901961 ],\n",
              "         [0.8901961 ],\n",
              "         [0.89411765],\n",
              "         [0.8901961 ],\n",
              "         [0.8901961 ],\n",
              "         [0.8901961 ],\n",
              "         [0.89411765],\n",
              "         [0.89411765],\n",
              "         [0.89411765],\n",
              "         [0.89411765],\n",
              "         [0.9019608 ],\n",
              "         [0.8156863 ],\n",
              "         [0.07843138],\n",
              "         [0.        ],\n",
              "         [0.03529412],\n",
              "         [0.77254903],\n",
              "         [0.9098039 ],\n",
              "         [0.89411765],\n",
              "         [0.89411765],\n",
              "         [0.89411765],\n",
              "         [0.89411765],\n",
              "         [0.89411765],\n",
              "         [0.8901961 ],\n",
              "         [0.8901961 ],\n",
              "         [0.89411765],\n",
              "         [0.89411765],\n",
              "         [0.89411765],\n",
              "         [0.8901961 ]],\n",
              "\n",
              "        [[0.89411765],\n",
              "         [0.8901961 ],\n",
              "         [0.8901961 ],\n",
              "         [0.8901961 ],\n",
              "         [0.8901961 ],\n",
              "         [0.8901961 ],\n",
              "         [0.8901961 ],\n",
              "         [0.8901961 ],\n",
              "         [0.8980392 ],\n",
              "         [0.90588236],\n",
              "         [0.92156863],\n",
              "         [0.8117647 ],\n",
              "         [0.07450981],\n",
              "         [0.        ],\n",
              "         [0.03529412],\n",
              "         [0.7647059 ],\n",
              "         [0.92941177],\n",
              "         [0.9137255 ],\n",
              "         [0.9098039 ],\n",
              "         [0.9019608 ],\n",
              "         [0.8980392 ],\n",
              "         [0.8901961 ],\n",
              "         [0.8901961 ],\n",
              "         [0.8901961 ],\n",
              "         [0.8901961 ],\n",
              "         [0.8901961 ],\n",
              "         [0.8901961 ],\n",
              "         [0.8901961 ]],\n",
              "\n",
              "        [[0.89411765],\n",
              "         [0.8901961 ],\n",
              "         [0.8901961 ],\n",
              "         [0.8901961 ],\n",
              "         [0.8901961 ],\n",
              "         [0.8901961 ],\n",
              "         [0.8901961 ],\n",
              "         [0.90588236],\n",
              "         [0.8784314 ],\n",
              "         [0.81960785],\n",
              "         [0.8156863 ],\n",
              "         [0.74509805],\n",
              "         [0.07450981],\n",
              "         [0.        ],\n",
              "         [0.04313726],\n",
              "         [0.7019608 ],\n",
              "         [0.77254903],\n",
              "         [0.7490196 ],\n",
              "         [0.7764706 ],\n",
              "         [0.84313726],\n",
              "         [0.88235295],\n",
              "         [0.8980392 ],\n",
              "         [0.8901961 ],\n",
              "         [0.8901961 ],\n",
              "         [0.8901961 ],\n",
              "         [0.8901961 ],\n",
              "         [0.8901961 ],\n",
              "         [0.8901961 ]],\n",
              "\n",
              "        [[0.89411765],\n",
              "         [0.8901961 ],\n",
              "         [0.89411765],\n",
              "         [0.8901961 ],\n",
              "         [0.8901961 ],\n",
              "         [0.89411765],\n",
              "         [0.9137255 ],\n",
              "         [0.6509804 ],\n",
              "         [0.14901961],\n",
              "         [0.07843138],\n",
              "         [0.06666667],\n",
              "         [0.07058824],\n",
              "         [0.01568628],\n",
              "         [0.        ],\n",
              "         [0.00392157],\n",
              "         [0.05098039],\n",
              "         [0.03137255],\n",
              "         [0.02352941],\n",
              "         [0.03921569],\n",
              "         [0.18431373],\n",
              "         [0.49019608],\n",
              "         [0.8235294 ],\n",
              "         [0.8901961 ],\n",
              "         [0.89411765],\n",
              "         [0.8901961 ],\n",
              "         [0.89411765],\n",
              "         [0.8901961 ],\n",
              "         [0.8901961 ]],\n",
              "\n",
              "        [[0.8901961 ],\n",
              "         [0.8901961 ],\n",
              "         [0.89411765],\n",
              "         [0.8901961 ],\n",
              "         [0.8901961 ],\n",
              "         [0.8901961 ],\n",
              "         [0.9098039 ],\n",
              "         [0.6784314 ],\n",
              "         [0.13333334],\n",
              "         [0.        ],\n",
              "         [0.        ],\n",
              "         [0.        ],\n",
              "         [0.        ],\n",
              "         [0.        ],\n",
              "         [0.        ],\n",
              "         [0.        ],\n",
              "         [0.        ],\n",
              "         [0.        ],\n",
              "         [0.        ],\n",
              "         [0.        ],\n",
              "         [0.24705882],\n",
              "         [0.63529414],\n",
              "         [0.84313726],\n",
              "         [0.8784314 ],\n",
              "         [0.89411765],\n",
              "         [0.8901961 ],\n",
              "         [0.8901961 ],\n",
              "         [0.8901961 ]],\n",
              "\n",
              "        [[0.8901961 ],\n",
              "         [0.8901961 ],\n",
              "         [0.8901961 ],\n",
              "         [0.8901961 ],\n",
              "         [0.8901961 ],\n",
              "         [0.8901961 ],\n",
              "         [0.89411765],\n",
              "         [0.8509804 ],\n",
              "         [0.5294118 ],\n",
              "         [0.34117648],\n",
              "         [0.33333334],\n",
              "         [0.41960785],\n",
              "         [0.45490196],\n",
              "         [0.4862745 ],\n",
              "         [0.4627451 ],\n",
              "         [0.47843137],\n",
              "         [0.57254905],\n",
              "         [0.5647059 ],\n",
              "         [0.5647059 ],\n",
              "         [0.5882353 ],\n",
              "         [0.79607844],\n",
              "         [0.8980392 ],\n",
              "         [0.89411765],\n",
              "         [0.89411765],\n",
              "         [0.8901961 ],\n",
              "         [0.8862745 ],\n",
              "         [0.8862745 ],\n",
              "         [0.8862745 ]],\n",
              "\n",
              "        [[0.89411765],\n",
              "         [0.8901961 ],\n",
              "         [0.8901961 ],\n",
              "         [0.8901961 ],\n",
              "         [0.8901961 ],\n",
              "         [0.8901961 ],\n",
              "         [0.8901961 ],\n",
              "         [0.89411765],\n",
              "         [0.9137255 ],\n",
              "         [0.92156863],\n",
              "         [0.92156863],\n",
              "         [0.9254902 ],\n",
              "         [0.92941177],\n",
              "         [0.92941177],\n",
              "         [0.9254902 ],\n",
              "         [0.9137255 ],\n",
              "         [0.92156863],\n",
              "         [0.92156863],\n",
              "         [0.9254902 ],\n",
              "         [0.9254902 ],\n",
              "         [0.90588236],\n",
              "         [0.89411765],\n",
              "         [0.89411765],\n",
              "         [0.8901961 ],\n",
              "         [0.8901961 ],\n",
              "         [0.8901961 ],\n",
              "         [0.8901961 ],\n",
              "         [0.8862745 ]],\n",
              "\n",
              "        [[0.8901961 ],\n",
              "         [0.8901961 ],\n",
              "         [0.8901961 ],\n",
              "         [0.8901961 ],\n",
              "         [0.8901961 ],\n",
              "         [0.8901961 ],\n",
              "         [0.8901961 ],\n",
              "         [0.8901961 ],\n",
              "         [0.8901961 ],\n",
              "         [0.8901961 ],\n",
              "         [0.8901961 ],\n",
              "         [0.89411765],\n",
              "         [0.89411765],\n",
              "         [0.89411765],\n",
              "         [0.8901961 ],\n",
              "         [0.8784314 ],\n",
              "         [0.8901961 ],\n",
              "         [0.8901961 ],\n",
              "         [0.8901961 ],\n",
              "         [0.8901961 ],\n",
              "         [0.89411765],\n",
              "         [0.8901961 ],\n",
              "         [0.89411765],\n",
              "         [0.8901961 ],\n",
              "         [0.8901961 ],\n",
              "         [0.8901961 ],\n",
              "         [0.8862745 ],\n",
              "         [0.8901961 ]],\n",
              "\n",
              "        [[0.8901961 ],\n",
              "         [0.8901961 ],\n",
              "         [0.8901961 ],\n",
              "         [0.8901961 ],\n",
              "         [0.8901961 ],\n",
              "         [0.8901961 ],\n",
              "         [0.8901961 ],\n",
              "         [0.8901961 ],\n",
              "         [0.8862745 ],\n",
              "         [0.8901961 ],\n",
              "         [0.8901961 ],\n",
              "         [0.8901961 ],\n",
              "         [0.89411765],\n",
              "         [0.89411765],\n",
              "         [0.89411765],\n",
              "         [0.89411765],\n",
              "         [0.89411765],\n",
              "         [0.8901961 ],\n",
              "         [0.8901961 ],\n",
              "         [0.8901961 ],\n",
              "         [0.89411765],\n",
              "         [0.89411765],\n",
              "         [0.89411765],\n",
              "         [0.89411765],\n",
              "         [0.8901961 ],\n",
              "         [0.8901961 ],\n",
              "         [0.8901961 ],\n",
              "         [0.8862745 ]],\n",
              "\n",
              "        [[0.8901961 ],\n",
              "         [0.8901961 ],\n",
              "         [0.8901961 ],\n",
              "         [0.8901961 ],\n",
              "         [0.8901961 ],\n",
              "         [0.8901961 ],\n",
              "         [0.8901961 ],\n",
              "         [0.8901961 ],\n",
              "         [0.8901961 ],\n",
              "         [0.8901961 ],\n",
              "         [0.8901961 ],\n",
              "         [0.8901961 ],\n",
              "         [0.89411765],\n",
              "         [0.89411765],\n",
              "         [0.89411765],\n",
              "         [0.8901961 ],\n",
              "         [0.8901961 ],\n",
              "         [0.89411765],\n",
              "         [0.8901961 ],\n",
              "         [0.8901961 ],\n",
              "         [0.8901961 ],\n",
              "         [0.8901961 ],\n",
              "         [0.8901961 ],\n",
              "         [0.8901961 ],\n",
              "         [0.8901961 ],\n",
              "         [0.8901961 ],\n",
              "         [0.8901961 ],\n",
              "         [0.8862745 ]],\n",
              "\n",
              "        [[0.8901961 ],\n",
              "         [0.8901961 ],\n",
              "         [0.8901961 ],\n",
              "         [0.8901961 ],\n",
              "         [0.8901961 ],\n",
              "         [0.8901961 ],\n",
              "         [0.8901961 ],\n",
              "         [0.8862745 ],\n",
              "         [0.8901961 ],\n",
              "         [0.8862745 ],\n",
              "         [0.8901961 ],\n",
              "         [0.8901961 ],\n",
              "         [0.8901961 ],\n",
              "         [0.89411765],\n",
              "         [0.89411765],\n",
              "         [0.89411765],\n",
              "         [0.8901961 ],\n",
              "         [0.8901961 ],\n",
              "         [0.8901961 ],\n",
              "         [0.8901961 ],\n",
              "         [0.8901961 ],\n",
              "         [0.8901961 ],\n",
              "         [0.8901961 ],\n",
              "         [0.8901961 ],\n",
              "         [0.8901961 ],\n",
              "         [0.8901961 ],\n",
              "         [0.8901961 ],\n",
              "         [0.8901961 ]]]], dtype=float32)"
            ]
          },
          "metadata": {},
          "execution_count": 135
        }
      ],
      "source": [
        "processed_image"
      ]
    },
    {
      "cell_type": "code",
      "execution_count": 136,
      "id": "b93b51ff-fc6b-458b-b31e-11448a84e734",
      "metadata": {
        "colab": {
          "base_uri": "https://localhost:8080/"
        },
        "id": "b93b51ff-fc6b-458b-b31e-11448a84e734",
        "outputId": "76dbb92d-6186-4851-c9aa-31eaf737c113"
      },
      "outputs": [
        {
          "output_type": "stream",
          "name": "stdout",
          "text": [
            "\u001b[1m1/1\u001b[0m \u001b[32m━━━━━━━━━━━━━━━━━━━━\u001b[0m\u001b[37m\u001b[0m \u001b[1m0s\u001b[0m 18ms/step\n"
          ]
        }
      ],
      "source": [
        "predicted_class, confidence = predict_image(model, processed_image)\n"
      ]
    },
    {
      "cell_type": "code",
      "execution_count": 137,
      "id": "8ac3fd6a-1538-4ba1-a515-ce972d2b2e42",
      "metadata": {
        "colab": {
          "base_uri": "https://localhost:8080/",
          "height": 35
        },
        "id": "8ac3fd6a-1538-4ba1-a515-ce972d2b2e42",
        "outputId": "0d0a686e-b8d2-4567-b7d8-4f2292992b00"
      },
      "outputs": [
        {
          "output_type": "execute_result",
          "data": {
            "text/plain": [
              "'four'"
            ],
            "application/vnd.google.colaboratory.intrinsic+json": {
              "type": "string"
            }
          },
          "metadata": {},
          "execution_count": 137
        }
      ],
      "source": [
        "predicted_class"
      ]
    },
    {
      "cell_type": "code",
      "execution_count": 138,
      "id": "92fd7a92-e6ee-4140-af46-943bdd0e5e88",
      "metadata": {
        "colab": {
          "base_uri": "https://localhost:8080/"
        },
        "id": "92fd7a92-e6ee-4140-af46-943bdd0e5e88",
        "outputId": "fb90e319-e631-4fd2-c22d-a17b32e0dafa"
      },
      "outputs": [
        {
          "output_type": "execute_result",
          "data": {
            "text/plain": [
              "0.8693812"
            ]
          },
          "metadata": {},
          "execution_count": 138
        }
      ],
      "source": [
        "confidence"
      ]
    },
    {
      "cell_type": "code",
      "execution_count": 99,
      "id": "995c93d3-9880-4716-afbf-322e3f638b16",
      "metadata": {
        "id": "995c93d3-9880-4716-afbf-322e3f638b16"
      },
      "outputs": [],
      "source": []
    }
  ],
  "metadata": {
    "kernelspec": {
      "display_name": "Python 3",
      "name": "python3"
    },
    "language_info": {
      "codemirror_mode": {
        "name": "ipython",
        "version": 3
      },
      "file_extension": ".py",
      "mimetype": "text/x-python",
      "name": "python",
      "nbconvert_exporter": "python",
      "pygments_lexer": "ipython3",
      "version": "3.9.13"
    },
    "colab": {
      "provenance": [],
      "gpuType": "T4",
      "include_colab_link": true
    },
    "accelerator": "GPU"
  },
  "nbformat": 4,
  "nbformat_minor": 5
}